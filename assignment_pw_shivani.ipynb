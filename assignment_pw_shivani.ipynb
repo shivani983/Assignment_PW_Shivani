{
  "nbformat": 4,
  "nbformat_minor": 0,
  "metadata": {
    "colab": {
      "provenance": []
    },
    "kernelspec": {
      "name": "python3",
      "display_name": "Python 3"
    },
    "language_info": {
      "name": "python"
    }
  },
  "cells": [
    {
      "cell_type": "markdown",
      "source": [
        "Question 1.1:\n",
        "1:STATIC VARIABLES: static variables are variables that are assigned outside the methods in the class and are accessible in all the methods throughout the class.\n",
        "DYNAMIC VARIABLES: dynamic variables are those variables which are created within the methods in the class.\n",
        "\n"
      ],
      "metadata": {
        "id": "bWeibaiW6TSh"
      }
    },
    {
      "cell_type": "markdown",
      "source": [
        "2: “pop()”: This method removes a specified key from the dictionary and returns its associated value.\n",
        "Example:\n"
      ],
      "metadata": {
        "id": "O8NrXW0Z6nvA"
      }
    },
    {
      "cell_type": "code",
      "source": [
        "dict1={'shivani':1,'dushyant':2,'nikhil':3}\n",
        "dict1.pop('shivani')\n"
      ],
      "metadata": {
        "colab": {
          "base_uri": "https://localhost:8080/"
        },
        "id": "MvFCg0-56wv9",
        "outputId": "14feb60c-fa86-4dd8-e531-9885fc352c50"
      },
      "execution_count": null,
      "outputs": [
        {
          "output_type": "execute_result",
          "data": {
            "text/plain": [
              "1"
            ]
          },
          "metadata": {},
          "execution_count": 2
        }
      ]
    },
    {
      "cell_type": "markdown",
      "source": [
        "“popitem()”: this method removes the last key value pair."
      ],
      "metadata": {
        "id": "WLOlltju7IW2"
      }
    },
    {
      "cell_type": "code",
      "source": [
        "dict1={'shivani':1,'dushyant':2,'nikhil':3}\n",
        "dict1.popitem()\n",
        "\n"
      ],
      "metadata": {
        "colab": {
          "base_uri": "https://localhost:8080/"
        },
        "id": "V4G3CBHD6zbG",
        "outputId": "3a00591d-8d40-446c-9b00-3456c275cff2"
      },
      "execution_count": null,
      "outputs": [
        {
          "output_type": "execute_result",
          "data": {
            "text/plain": [
              "('nikhil', 3)"
            ]
          },
          "metadata": {},
          "execution_count": 3
        }
      ]
    },
    {
      "cell_type": "markdown",
      "source": [
        "“clear()”: this method removes all the key value pair and left dictionary empty."
      ],
      "metadata": {
        "id": "phaFylgU7a7L"
      }
    },
    {
      "cell_type": "code",
      "source": [
        "dict1={'shivani':1,'dushyant':2,'nikhil':3}\n",
        "dict1.clear()\n",
        "dict1"
      ],
      "metadata": {
        "colab": {
          "base_uri": "https://localhost:8080/"
        },
        "id": "9qTu61Cf7SEt",
        "outputId": "fb935481-14c8-4abd-9604-444549af6b4e"
      },
      "execution_count": null,
      "outputs": [
        {
          "output_type": "execute_result",
          "data": {
            "text/plain": [
              "{}"
            ]
          },
          "metadata": {},
          "execution_count": 5
        }
      ]
    },
    {
      "cell_type": "markdown",
      "source": [
        "3: “frozenset”: frozensets are type of sets that are immutable in nature.\n"
      ],
      "metadata": {
        "id": "57RP0c1l7nLq"
      }
    },
    {
      "cell_type": "code",
      "source": [
        "frozen_set=frozenset({\"apple\",\"shivani\",\"neha\",\"harsh\"})\n",
        "print(frozen_set)\n",
        "\n"
      ],
      "metadata": {
        "colab": {
          "base_uri": "https://localhost:8080/"
        },
        "id": "pvCXt9Aa70hl",
        "outputId": "e596bdbd-aca6-4616-f5bb-c25f1f0c4cb2"
      },
      "execution_count": null,
      "outputs": [
        {
          "output_type": "stream",
          "name": "stdout",
          "text": [
            "frozenset({'apple', 'harsh', 'shivani', 'neha'})\n"
          ]
        }
      ]
    },
    {
      "cell_type": "code",
      "source": [
        "frozen_set[3]=”Harsh”"
      ],
      "metadata": {
        "colab": {
          "base_uri": "https://localhost:8080/",
          "height": 106
        },
        "id": "1INpVS3y8MIl",
        "outputId": "b45f1a2e-8886-4a99-dc57-3f7836b85445"
      },
      "execution_count": null,
      "outputs": [
        {
          "output_type": "error",
          "ename": "SyntaxError",
          "evalue": "invalid character '”' (U+201D) (<ipython-input-12-51193efab892>, line 1)",
          "traceback": [
            "\u001b[0;36m  File \u001b[0;32m\"<ipython-input-12-51193efab892>\"\u001b[0;36m, line \u001b[0;32m1\u001b[0m\n\u001b[0;31m    frozen_set[3]=”Harsh”\u001b[0m\n\u001b[0m                  ^\u001b[0m\n\u001b[0;31mSyntaxError\u001b[0m\u001b[0;31m:\u001b[0m invalid character '”' (U+201D)\n"
          ]
        }
      ]
    },
    {
      "cell_type": "markdown",
      "source": [
        "5: “__init__” : __init__ is the constructor in the class is used to initialize the  instances in the class and when we create the\n",
        " new instance  then it will call itself and assign the values.\n"
      ],
      "metadata": {
        "id": "m5vFOkYG8fX7"
      }
    },
    {
      "cell_type": "code",
      "source": [
        "class Person:\n",
        "  def __init__(self, name, age):\n",
        "   self.name = name\n",
        "   self.age = age\n"
      ],
      "metadata": {
        "id": "cl64szY88awZ"
      },
      "execution_count": null,
      "outputs": []
    },
    {
      "cell_type": "markdown",
      "source": [
        "Question 1.3.\n",
        "\n",
        "name = [\"Mohan\", \"dash\", \"karam\", \"chandra\",\"gandhi\",\"Bapu\"]\n",
        "\n",
        "do the following operations in this list;\n",
        "\n",
        "\n",
        "a) add an element \"freedom_fighter\" in this list at the 0th index.\n",
        "\n",
        "\n",
        "b) find the output of the following ,and explain how?\n",
        "\n",
        "\n",
        "\n",
        "\n",
        "\n",
        "\n",
        "\n",
        "\n",
        "c) add two more elements in the name [\"NetaJi\",\"Bose\"] at the end of the list.\n",
        "\n",
        "\n",
        "d) what will be the value of temp:\n",
        "\n",
        "name = [\"Bapuji\", \"dash\", \"karam\", \"chandra\",\"gandi\",\"Mohan\"]\n",
        "\n",
        "temp=name[-1]\n",
        "\n",
        "name[-1]=name[0]\n",
        "\n",
        "name[0]=temp\n",
        "\n",
        "print(name)"
      ],
      "metadata": {
        "id": "6X2hIFlw9bhR"
      }
    },
    {
      "cell_type": "code",
      "source": [
        "name = [\"Mohan\", \"dash\", \"karam\", \"chandra\",\"gandhi\",\"Bapu\"]\n",
        "name.insert(0,\"freedom_fighter\")\n",
        "name\n"
      ],
      "metadata": {
        "colab": {
          "base_uri": "https://localhost:8080/"
        },
        "id": "lMPuwbaD94_W",
        "outputId": "3ffc87ad-600f-44da-ba4d-c2e3fbc841fb"
      },
      "execution_count": null,
      "outputs": [
        {
          "output_type": "execute_result",
          "data": {
            "text/plain": [
              "['freedom_fighter', 'Mohan', 'dash', 'karam', 'chandra', 'gandhi', 'Bapu']"
            ]
          },
          "metadata": {},
          "execution_count": 18
        }
      ]
    },
    {
      "cell_type": "code",
      "source": [
        "name = [\"freedomFighter\",\"Bapuji\",\"MOhan\" \"dash\", \"karam\",\n",
        "\"chandra\",\"gandhi\"]\n",
        "length1=len((name[-len(name)+1:-1:2]))\n",
        "length2=len((name[-len(name)+1:-1]))\n",
        "print(length1+length2)\n",
        "\n",
        "'''explanation: the list named name is given and it has a length of 6, for length1 indexing is starting\n",
        " from -5   and ending at index -1 and the step size is 2 so in length1 there will be index -5,-2 so length1 will be 2 for length 2 indexing is starting from -5 and ending at index -1 with a step size of 1\n",
        "So in length2 there will be index -5,-4,-3,-2 so the length of length2 will be  4. The final result will be 6.'''\n",
        "\n"
      ],
      "metadata": {
        "colab": {
          "base_uri": "https://localhost:8080/",
          "height": 88
        },
        "id": "ay123k2Q-Es5",
        "outputId": "77d36109-308f-47eb-e766-2b5228460179"
      },
      "execution_count": null,
      "outputs": [
        {
          "output_type": "stream",
          "name": "stdout",
          "text": [
            "6\n"
          ]
        },
        {
          "output_type": "execute_result",
          "data": {
            "text/plain": [
              "'explanation: the list named name is given and it has a length of 6, for length1 indexing is starting\\n from -5   and ending at index -1 and the step size is 2 so in length1 there will be index -5,-2 so length1 will be 2 for length 2 indexing is starting from -5 and ending at index -1 with a step size of 1\\nSo in length2 there will be index -5,-4,-3,-2 so the length of length2 will be  4. The final result will be 6.'"
            ],
            "application/vnd.google.colaboratory.intrinsic+json": {
              "type": "string"
            }
          },
          "metadata": {},
          "execution_count": 20
        }
      ]
    },
    {
      "cell_type": "code",
      "source": [
        "name = [\"freedomFighter\",\"Bapuji\",\"MOhan\" \"dash\", \"karam\",\n",
        "\"chandra\",\"gandhi\"]\n",
        "name.extend([\"NetaJi\",\"Bose\"])\n",
        "name\n"
      ],
      "metadata": {
        "colab": {
          "base_uri": "https://localhost:8080/"
        },
        "id": "LNA44KXK-bub",
        "outputId": "e9fa4ee1-0d9d-48ad-8ef7-c4600a98f6f0"
      },
      "execution_count": null,
      "outputs": [
        {
          "output_type": "execute_result",
          "data": {
            "text/plain": [
              "['freedomFighter',\n",
              " 'Bapuji',\n",
              " 'MOhandash',\n",
              " 'karam',\n",
              " 'chandra',\n",
              " 'gandhi',\n",
              " 'NetaJi',\n",
              " 'Bose']"
            ]
          },
          "metadata": {},
          "execution_count": 21
        }
      ]
    },
    {
      "cell_type": "code",
      "source": [
        "#Question 1.6:\n",
        "color = input(\"Enter the color of the signal (RED/Yellow/Green): \").strip()\n",
        "\n",
        "\n",
        "if color == \"RED\":\n",
        "    print(\"Stop\")\n",
        "elif color == \"Yellow\":\n",
        "    print(\"stay\")\n",
        "elif color == \"Green\":\n",
        "    print(\"Go\")\n",
        "else:\n",
        "    print(\"Invalid color. Please enter traffic light colour\")"
      ],
      "metadata": {
        "colab": {
          "base_uri": "https://localhost:8080/"
        },
        "id": "LCRmPHnS-vZr",
        "outputId": "e9f61600-48db-4003-fda3-1e884cba7e9c"
      },
      "execution_count": null,
      "outputs": [
        {
          "output_type": "stream",
          "name": "stdout",
          "text": [
            "Enter the color of the signal (RED/Yellow/Green): RED\n",
            "Stop\n"
          ]
        }
      ]
    },
    {
      "cell_type": "code",
      "source": [
        "#Question 1.7:\n",
        "def add(num1,num2):\n",
        "  return num1 +num2\n",
        "def subtract(num1,num2):\n",
        "  return num1-num2\n",
        "def multiply(num1,num2):\n",
        "  return num1*num2\n",
        "def divide(num1,num2):\n",
        "  return num1/num2\n",
        "print(add(8,2))\n",
        "print(subtract(9,5))\n",
        "print(multiply(6,3))\n",
        "divide(9,3)"
      ],
      "metadata": {
        "colab": {
          "base_uri": "https://localhost:8080/"
        },
        "id": "2n6dD6Lj--xk",
        "outputId": "37801815-08c8-4a3a-8be2-1bd51069223c"
      },
      "execution_count": null,
      "outputs": [
        {
          "output_type": "stream",
          "name": "stdout",
          "text": [
            "10\n",
            "4\n",
            "18\n"
          ]
        },
        {
          "output_type": "execute_result",
          "data": {
            "text/plain": [
              "3.0"
            ]
          },
          "metadata": {},
          "execution_count": 24
        }
      ]
    },
    {
      "cell_type": "code",
      "source": [
        "#Question: 1.8\n",
        "input1=int(input(\"enter the first number:\"))\n",
        "input2=int(input(\"enter the second number:\"))\n",
        "input3=int(input(\"enter the third number:\"))\n",
        "result= input1 if input1>input2 and input1>input3 else input2 if input2>input1 and input2>input3 else input3\n",
        "print(\"the larger number is:\" ,result)"
      ],
      "metadata": {
        "colab": {
          "base_uri": "https://localhost:8080/"
        },
        "id": "AyYd88FH_DiA",
        "outputId": "629af948-0653-40e7-9ffc-c52023c53ec3"
      },
      "execution_count": null,
      "outputs": [
        {
          "output_type": "stream",
          "name": "stdout",
          "text": [
            "enter the first number: 56\n",
            "enter the second number:457\n",
            "enter the third number:76\n",
            "the larger number is: 457\n"
          ]
        }
      ]
    },
    {
      "cell_type": "code",
      "source": [
        "#Question:1.9\n",
        "whole_number=int(input(\"enter the whole number\"))\n",
        "i=1\n",
        "while i <=whole_number:\n",
        "  if whole_number%i==0:\n",
        "    print(i)\n",
        "  i+=1"
      ],
      "metadata": {
        "colab": {
          "base_uri": "https://localhost:8080/"
        },
        "id": "4yHvD_s9_KIb",
        "outputId": "a9cf3a4b-e10a-461c-84a1-9567d9172cec"
      },
      "execution_count": null,
      "outputs": [
        {
          "output_type": "stream",
          "name": "stdout",
          "text": [
            "enter the whole number 56\n",
            "1\n",
            "2\n",
            "4\n",
            "7\n",
            "8\n",
            "14\n",
            "28\n",
            "56\n"
          ]
        }
      ]
    },
    {
      "cell_type": "code",
      "source": [
        "#Question:1.10\n",
        "summation=0\n",
        "while True:\n",
        "  num=int(input(\"enter the number\"))\n",
        "\n",
        "  if num>0:\n",
        "    summation+=num\n",
        "    print(summation)\n",
        "\n",
        "  else:\n",
        "    break"
      ],
      "metadata": {
        "colab": {
          "base_uri": "https://localhost:8080/"
        },
        "id": "BOU9qa9__RGR",
        "outputId": "9b46f749-0481-4f21-918c-ac604ca2518b"
      },
      "execution_count": null,
      "outputs": [
        {
          "name": "stdout",
          "output_type": "stream",
          "text": [
            "enter the number  56\n",
            "56\n",
            "enter the number67\n",
            "123\n",
            "enter the number -1\n"
          ]
        }
      ]
    },
    {
      "cell_type": "code",
      "source": [
        "subjects=['mathematics','english','hindi','science','social science']\n",
        "marks=[]\n",
        "for i in subjects:\n",
        "  mark=int(input(\"enter your marks:\"))\n",
        "  if 0 <= mark <100:\n",
        "    marks.append(mark)\n",
        "print(marks)"
      ],
      "metadata": {
        "colab": {
          "base_uri": "https://localhost:8080/"
        },
        "id": "FeY4wF6S_nWa",
        "outputId": "6f6f7bfe-ee0d-4fa8-e6e8-c72f0a4d08e5"
      },
      "execution_count": null,
      "outputs": [
        {
          "output_type": "stream",
          "name": "stdout",
          "text": [
            "enter your marks: 67\n",
            "enter your marks:56\n",
            "enter your marks: 89\n",
            "enter your marks: 95\n",
            "enter your marks:92\n",
            "[67, 56, 89, 95, 92]\n"
          ]
        }
      ]
    },
    {
      "cell_type": "code",
      "source": [
        "#2:\n",
        "\n",
        "\n",
        "subjects=['mathematics','english','hindi','science','social science']\n",
        "marks=[]\n",
        "for i in subjects:\n",
        "  mark=int(input(\"enter your marks:\"))\n",
        "  if 0 <= mark <100:\n",
        "    marks.append(mark)\n",
        "print(marks)\n",
        "sum=0\n",
        "for i in marks:\n",
        "  sum+=i\n",
        "print(sum)\n",
        "percentage=(sum/500)*100\n",
        "print(percentage)"
      ],
      "metadata": {
        "colab": {
          "base_uri": "https://localhost:8080/"
        },
        "id": "2ODC_H3k_v_f",
        "outputId": "9077b849-63f2-446e-b693-3da6f740fadd"
      },
      "execution_count": null,
      "outputs": [
        {
          "output_type": "stream",
          "name": "stdout",
          "text": [
            "enter your marks: 56\n",
            "enter your marks:89\n",
            "enter your marks: 86\n",
            "enter your marks: 54\n",
            "enter your marks:56\n",
            "[56, 89, 86, 54, 56]\n",
            "341\n",
            "68.2\n"
          ]
        }
      ]
    },
    {
      "cell_type": "code",
      "source": [
        "#3:\n",
        "\n",
        "\n",
        "\n",
        "\n",
        "subjects=['mathematics','english','hindi','science','social science']\n",
        "marks=[]\n",
        "for i in subjects:\n",
        "  mark=int(input(\"enter your marks:\"))\n",
        "  if 0 <= mark <100:\n",
        "    marks.append(mark)\n",
        "print(\"marks:\",marks)\n",
        "sum=0\n",
        "for i in marks:\n",
        "  sum+=i\n",
        "print(\"total:\",sum)\n",
        "percentage=(sum/500)*100\n",
        "print(\"percentage:\",percentage)\n",
        "if percentage>85:\n",
        "  print(\"grade:\",\"A\")\n",
        "elif 75<= percentage <85:\n",
        "   print(\"grade:\",\"B\")\n",
        "elif 50<= percentage <75:\n",
        "   print(\"grade:\",\"C\")\n",
        "\n",
        "\n",
        "elif 30<= percentage<50:\n",
        "  print(\"grade:\",\"D\")\n",
        "else:\n",
        "  print(\"reappear\")"
      ],
      "metadata": {
        "colab": {
          "base_uri": "https://localhost:8080/"
        },
        "id": "l7NCGIuy_-DO",
        "outputId": "53c391fe-f207-4684-b42f-f1d7950c064f"
      },
      "execution_count": null,
      "outputs": [
        {
          "output_type": "stream",
          "name": "stdout",
          "text": [
            "enter your marks: 89\n",
            "enter your marks:9\n",
            "enter your marks:95\n",
            "enter your marks: 92\n",
            "enter your marks:91\n",
            "marks: [89, 9, 95, 92, 91]\n",
            "total: 376\n",
            "percentage: 75.2\n",
            "grade: B\n"
          ]
        }
      ]
    },
    {
      "cell_type": "code",
      "source": [
        "#Question:1.13\n",
        "wavelength=int(input(\"enter the wavelength\"))\n",
        "if 400<=wavelength<440:\n",
        "  print(\"violet\")\n",
        "elif 440<=wavelength<460:\n",
        "  print(\"indigo\")\n",
        "elif 460<=wavelength<500:\n",
        "  print(\"blue\")\n",
        "elif 500<=wavelength<570:\n",
        "  print(\"green\")\n",
        "elif 570<=wavelength<590:\n",
        "  print(\"yellow\")\n",
        "elif 590<=wavelength<620:\n",
        "  print(\"orange\")\n",
        "elif 620<=wavelength<720:\n",
        "  print(\"red\")\n",
        "#output=enter the wavelength 560\n",
        "#green"
      ],
      "metadata": {
        "colab": {
          "base_uri": "https://localhost:8080/"
        },
        "id": "dDl13HQyALWU",
        "outputId": "91ae57cc-53ea-42e4-8b66-07481b9c2e91"
      },
      "execution_count": null,
      "outputs": [
        {
          "output_type": "stream",
          "name": "stdout",
          "text": [
            "enter the wavelength 560\n",
            "green\n"
          ]
        }
      ]
    },
    {
      "cell_type": "code",
      "source": [
        "#Question:1.14\n",
        "#a)\n",
        "mass_earth = 5.972e24\n",
        "mass_moon = 7.34767309e22\n",
        "mass_sun =1.989e30\n",
        "distance_earth_sun=1.496e11\n",
        "distance_moon_earth=3.844e8\n",
        "gravitational_force_sun_earth= 6.674*10**-11*(mass_earth*mass_sun)/distance_earth_sun**2\n",
        "gravitational_force_sun_earth\n",
        "#output=\n",
        "#3.5422368558580452e+22\n"
      ],
      "metadata": {
        "colab": {
          "base_uri": "https://localhost:8080/"
        },
        "id": "OE_LQuxVAf5R",
        "outputId": "42e34e82-780f-4a94-a232-6191dfae71dd"
      },
      "execution_count": null,
      "outputs": [
        {
          "output_type": "execute_result",
          "data": {
            "text/plain": [
              "3.5422368558580452e+22"
            ]
          },
          "metadata": {},
          "execution_count": 37
        }
      ]
    },
    {
      "cell_type": "code",
      "source": [
        "#b)\n",
        "mass_earth = 5.972e24\n",
        "mass_moon = 7.34767309e22\n",
        "mass_sun =1.989e30\n",
        "distance_earth_sun=1.496e11\n",
        "distance_moon_earth=3.844e8\n",
        "gravitational_force_moon_earth= 6.674*10**-11*(mass_earth*mass_moon)/distance_moon_earth**2\n",
        "gravitational_force_moon_earth\n",
        "#output=\n",
        "#1.9819334566450407e+20\n"
      ],
      "metadata": {
        "colab": {
          "base_uri": "https://localhost:8080/"
        },
        "id": "29rMT11sApsT",
        "outputId": "aaff5753-93df-4930-9c12-21f32a709249"
      },
      "execution_count": null,
      "outputs": [
        {
          "output_type": "execute_result",
          "data": {
            "text/plain": [
              "1.9819334566450407e+20"
            ]
          },
          "metadata": {},
          "execution_count": 38
        }
      ]
    },
    {
      "cell_type": "code",
      "source": [
        "#c)\n",
        "mass_earth = 5.972e24\n",
        "mass_moon = 7.34767309e22\n",
        "mass_sun =1.989e30\n",
        "distance_earth_sun=1.496e11\n",
        "distance_moon_earth=3.844e8\n",
        "gravitational_force_sun_earth= 6.674*10**-11*(mass_earth*mass_sun)/distance_earth_sun**2\n",
        "print(gravitational_force_sun_earth)\n",
        "gravitational_force_moon_earth= 6.674*10**-11*(mass_earth*mass_moon)/distance_moon_earth**2\n",
        "print(gravitational_force_moon_earth)\n",
        "if gravitational_force_sun_earth>gravitational_force_moon_earth:\n",
        "  print(\"gravitational force between sun and earth is greater than gravitational force between moon and earth\")\n",
        "else:\n",
        "  print(\"gravitational force between moon and earth is greater than gravitational force between sun and earth\")"
      ],
      "metadata": {
        "colab": {
          "base_uri": "https://localhost:8080/"
        },
        "id": "G8q7lENuA344",
        "outputId": "e3bb456c-257c-4665-85ae-f1c7010cb8ca"
      },
      "execution_count": null,
      "outputs": [
        {
          "output_type": "stream",
          "name": "stdout",
          "text": [
            "3.5422368558580452e+22\n",
            "1.9819334566450407e+20\n",
            "gravitational force between sun and earth is greater than gravitational force between moon and earth\n"
          ]
        }
      ]
    },
    {
      "cell_type": "code",
      "source": [
        "#d)\n",
        "mass_earth = 5.972e24\n",
        "mass_moon = 7.34767309e22\n",
        "mass_sun =1.989e30\n",
        "distance_earth_sun=1.496e11\n",
        "distance_moon_earth=3.844e8\n",
        "gravitational_force_sun_earth= 6.674*10**-11*(mass_earth*mass_sun)/distance_earth_sun**2\n",
        "print(gravitational_force_sun_earth)\n",
        "gravitational_force_moon_earth= 6.674*10**-11*(mass_earth*mass_moon)/distance_moon_earth**2\n",
        "print(gravitational_force_moon_earth)\n",
        "moon_acceleration=gravitational_force_moon_earth/mass_moon\n",
        "print(moon_acceleration)\n",
        "earth_acceleration=gravitational_force_moon_earth/mass_earth\n",
        "print(earth_acceleration)\n",
        "if earth_acceleration>moon_acceleration:\n",
        "  print(\" earth is faster than moon\")\n",
        "else:\n",
        "  print(\"moon is faster than earth\")\n",
        "#output=\n",
        "#3.5422368558580452e+22\n",
        "#1.9819334566450407e+20\n",
        "#0.002697362052405955\n",
        "#3.3187097398610864e-05\n",
        "#moon is faster than earth\n"
      ],
      "metadata": {
        "colab": {
          "base_uri": "https://localhost:8080/"
        },
        "id": "aVPfFp2pBS4H",
        "outputId": "c89978c1-f39c-405e-c7c0-14dbdc017e00"
      },
      "execution_count": null,
      "outputs": [
        {
          "output_type": "stream",
          "name": "stdout",
          "text": [
            "3.5422368558580452e+22\n",
            "1.9819334566450407e+20\n",
            "0.002697362052405955\n",
            "3.3187097398610864e-05\n",
            "moon is faster than earth\n"
          ]
        }
      ]
    },
    {
      "cell_type": "code",
      "source": [
        "#Question: 2\n",
        "\n",
        "class Students:\n",
        "  def __init__(self,name,age,roll_number):\n",
        "    self.__name=name\n",
        "    self.__age=age\n",
        "    self.__roll_number=roll_number\n",
        "  def get_name(self):\n",
        "    return self.__name\n",
        "  def get_age(self):\n",
        "    return self.__age\n",
        "  def get_roll_number(self):\n",
        "    return self.__roll_number\n",
        "  def set_name(self,name):\n",
        "    self.__name=name\n",
        "  def set_age(self,age):\n",
        "    self.__age=age\n",
        "  def set_roll_number(self,roll_number):\n",
        "    self.__roll_number=roll_number\n",
        "\n",
        "\n",
        "\n",
        "\n",
        "obj1=Students(\"shivani\",20, 617)\n",
        "obj1.get_name()\n",
        "obj1.set_name(\"shivi\")\n",
        "obj1.get_name()\n",
        "#output=shivi"
      ],
      "metadata": {
        "colab": {
          "base_uri": "https://localhost:8080/",
          "height": 36
        },
        "id": "mj5Xwaq8BgNy",
        "outputId": "c1465600-1ce1-4fcc-eb4c-f9aa69cea13c"
      },
      "execution_count": null,
      "outputs": [
        {
          "output_type": "execute_result",
          "data": {
            "text/plain": [
              "'shivi'"
            ],
            "application/vnd.google.colaboratory.intrinsic+json": {
              "type": "string"
            }
          },
          "metadata": {},
          "execution_count": 42
        }
      ]
    },
    {
      "cell_type": "code",
      "source": [
        "#Question: 3\n",
        "\n",
        "class LibraryBook:\n",
        "  def __init__(self,bookname,author,availability_status):\n",
        "    self.__bookname=bookname\n",
        "    self.__author=author\n",
        "    self.__availability_status=availability_status\n",
        "\n",
        "  def borrow_book(self):\n",
        "    if self.__availability_status==True:\n",
        "      print(\"book is available\")\n",
        "      self.__availability_status=False\n",
        "      return self.__bookname, self.__author\n",
        "\n",
        "    else:\n",
        "      print(\"book is not available\")\n",
        "      return None\n",
        "  def return_book(self):\n",
        "    self.__availability_status=True\n",
        "    print(\"book is returned\")\n",
        "    return None\n",
        "\n",
        "obj1=LibraryBook('python for datascience','oreilly',True)\n",
        "obj2=LibraryBook('statistics for datascience','oreilly',True)\n",
        "obj3=LibraryBook('data science','oreilly',True)\n",
        "objs=[obj1,obj2,obj3]\n",
        "for obj in objs:\n",
        "  print(obj.borrow_book())\n",
        "  print(obj.return_book())\n",
        "print(obj1.borrow_book())\n",
        "print(obj2.borrow_book())\n",
        "print(obj3.borrow_book())\n",
        "# #output=\n",
        "# book is available\n",
        "# ('python for datascience', 'oreilly')\n",
        "# book is returned\n",
        "# None\n",
        "# book is available\n",
        "# ('statistics for datascience', 'oreilly')\n",
        "# book is returned\n",
        "# None\n",
        "# book is available\n",
        "# ('data science', 'oreilly')\n",
        "# book is returned\n",
        "# None\n",
        "# book is available\n",
        "# ('python for datascience', 'oreilly')\n",
        "# book is available\n",
        "# ('statistics for datascience', 'oreilly')\n",
        "# book is available\n",
        "# ('data science', 'oreilly')\n"
      ],
      "metadata": {
        "colab": {
          "base_uri": "https://localhost:8080/"
        },
        "id": "rBqTb72sBpCq",
        "outputId": "91479a57-e6d9-4e8b-dd2c-66689e790f15"
      },
      "execution_count": null,
      "outputs": [
        {
          "output_type": "stream",
          "name": "stdout",
          "text": [
            "book is available\n",
            "('python for datascience', 'oreilly')\n",
            "book is returned\n",
            "None\n",
            "book is available\n",
            "('statistics for datascience', 'oreilly')\n",
            "book is returned\n",
            "None\n",
            "book is available\n",
            "('data science', 'oreilly')\n",
            "book is returned\n",
            "None\n",
            "book is available\n",
            "('python for datascience', 'oreilly')\n",
            "book is available\n",
            "('statistics for datascience', 'oreilly')\n",
            "book is available\n",
            "('data science', 'oreilly')\n"
          ]
        }
      ]
    },
    {
      "cell_type": "code",
      "source": [
        "#Question: 5\n",
        "class Animal:\n",
        "  def make_sound(self):\n",
        "    print(\" animal is making sound\")\n",
        "class Dog(Animal):\n",
        "  def make_sound(self):\n",
        "    print(\"dog barks\")\n",
        "class Cat(Animal):\n",
        "  def make_sound(self):\n",
        "    print(\" cat meows\")\n",
        "objt1=Cat()\n",
        "objt1.make_sound()\n",
        "objt2=Dog()\n",
        "objt2.make_sound()\n",
        "#output=\n",
        "# cat meows\n",
        "# dog barks"
      ],
      "metadata": {
        "colab": {
          "base_uri": "https://localhost:8080/"
        },
        "id": "cZ7mitHpB1yK",
        "outputId": "0d53ec3f-c10f-4c58-a303-2d08bc4bffa5"
      },
      "execution_count": null,
      "outputs": [
        {
          "output_type": "stream",
          "name": "stdout",
          "text": [
            " cat meows\n",
            "dog barks\n"
          ]
        }
      ]
    },
    {
      "cell_type": "code",
      "source": [
        "# Question:7\n",
        "class Room:\n",
        "  def __init__(self,room_number,room_type,rate,availability):\n",
        "    self._room_number=room_number\n",
        "    self._room_type=room_type\n",
        "    self._rate=rate\n",
        "    self.__availability=availability\n",
        "  def room_identification_number(self,room_number):\n",
        "    self.__room_number\n",
        "  def book_room(self):\n",
        "    pass\n",
        "  def check_in_guest(self):\n",
        "    pass\n",
        "  def check_out_guest(self):\n",
        "    pass\n",
        "class SuiteRoom(Room):\n",
        "  def __init__(self,room_number,room_type,rate,availability,curtains):\n",
        "    super().__init__(room_number,room_type,rate,availability)\n",
        "    self._curtains=curtains\n",
        "class StandardRoom(Room):\n",
        "  def __init__(self,room_number,room_type,rate,availability,airConditioner):\n",
        "    super().__init__(room_number,room_type,rate,availability)\n",
        "    self._airConditioner=airConditioner\n",
        "obj1=SuiteRoom(142,'suite',1200,True,'available')\n",
        "obj2=StandardRoom(126,\"standard\",2500,True,'AC available')\n",
        "print(obj1._curtains)\n",
        "print(obj1._rate)\n",
        " #output=\n",
        "# available\n",
        "# 1200"
      ],
      "metadata": {
        "colab": {
          "base_uri": "https://localhost:8080/"
        },
        "id": "RhcgIIdLB8Py",
        "outputId": "e1c112a3-0e56-4f6b-e377-2cdc92de7357"
      },
      "execution_count": null,
      "outputs": [
        {
          "output_type": "stream",
          "name": "stdout",
          "text": [
            "available\n",
            "1200\n"
          ]
        }
      ]
    },
    {
      "cell_type": "code",
      "source": [
        "#Question:8\n",
        "class Member:\n",
        "  member_list=[]\n",
        "  def __init__(self,name,age,membership_type,membership_status):\n",
        "    self._name=name\n",
        "    self._age=age\n",
        "    self._membership_type=membership_type\n",
        "    self.__membership_status=membership_status\n",
        "\n",
        "  def new_member(self,name,age,membership_type,membership_status):\n",
        "    new_member = Member(name, age, membership_type, membership_status)\n",
        "    Member.member_list.append(new_member)\n",
        "    return  Member.member_list\n",
        "\n",
        "  def renew_membership(self,membership_status):\n",
        "    self._membership_status=membership_status\n",
        "\n",
        "\n",
        "  def cancel_membership(self,membership_status):\n",
        "    self._membership_status=None\n",
        "\n",
        "\n",
        "  def Identification_number(self,id_number):\n",
        "    self.__id_number=id_number\n",
        "\n",
        "\n",
        "  def show_details(self):\n",
        "    return [self._name,self._age,self._membership_type]\n",
        "\n",
        "\n",
        "class FamilyMember(Member):\n",
        "  def __init__(self,name,age,membership_type,membership_status,relation):\n",
        "    super().__init__(name,age,membership_type,membership_status)\n",
        "    self.__relation=relation\n",
        "class IndividualMember(Member):\n",
        "  def __init__(self,name,age,membership_type,membership_status,gender):\n",
        "    super().__init__(name, age, membership_type, membership_status)\n",
        "    self.__gender=gender\n",
        "\n",
        "\n",
        "  for i in  Member.member_list :\n",
        "    i.show_details()\n",
        "    print()\n",
        "\n",
        "\n",
        "obj1=IndividualMember('shivi',20,'personal',True,'female')\n",
        "print(obj1._name)\n",
        "obj2=Member('neha',18,'elite',True)\n",
        "obj2._age\n",
        "\n",
        "\n",
        "#output=shivi\n"
      ],
      "metadata": {
        "colab": {
          "base_uri": "https://localhost:8080/"
        },
        "id": "nFkQ7bTRCChJ",
        "outputId": "425c9e42-50df-4202-a789-77e2fcb1dd96"
      },
      "execution_count": null,
      "outputs": [
        {
          "output_type": "stream",
          "name": "stdout",
          "text": [
            "shivi\n"
          ]
        },
        {
          "output_type": "execute_result",
          "data": {
            "text/plain": [
              "18"
            ]
          },
          "metadata": {},
          "execution_count": 46
        }
      ]
    },
    {
      "cell_type": "code",
      "source": [
        "#Question:9\n",
        "class Event:\n",
        "  list_of_events=[]\n",
        "  def __init__(self,name,date,time,location,list_of_attendees):\n",
        "    self.name=name\n",
        "    self.date=date\n",
        "    self.time=time\n",
        "    self.location=location\n",
        "    self.__list_of_attendees=list_of_attendees\n",
        "\n",
        "\n",
        "  def show(self):\n",
        "    return Event.list_of_events\n",
        "\n",
        "\n",
        "  def create_new_event(self,name,date,time,location,list_of_attendees):\n",
        "      new_event=Event(name,date,time,location,list_of_attendees)\n",
        "      Event.list_of_events.append(new_event)\n",
        "      return Event.list_of_events\n",
        "\n",
        "\n",
        "  def add_attendees(self,new_attendee):\n",
        "      self.__list_of_attendees += new_attendee\n",
        "\n",
        "\n",
        "  def remove_attendees(self,extra_attendee):\n",
        "      self.__list_of_attendees.remove(extra_attendee)\n",
        "\n",
        "\n",
        "  def total_attendees(self):\n",
        "      return self.__list_of_attendees\n",
        "  def __repr__(self):\n",
        "      return f\"Event('{self.name}', '{self.date}', '{self.time}', '{self.location}', {self.__list_of_attendees})\"\n",
        "\n",
        "\n",
        "class PrivateEvent(Event):\n",
        "  def __init__(self,name,date,time,location,list_of_attendees,identification_number,event_type):\n",
        "    super().__init__(name,date,time,location,list_of_attendees)\n",
        "    self.__identification_number=identification_number\n",
        "    self.event_type=event_type\n",
        "\n",
        "\n",
        "class PublicEvent(Event):\n",
        "  def __init__(self,name,date,time,location,list_of_attendees,identification_number,event_type):\n",
        "    super().__init__(name,date,time,location,list_of_attendees)\n",
        "    self.__identification_number=identification_number\n",
        "    self.event_type=event_type\n",
        "\n",
        "\n",
        "\n",
        "\n",
        "obj1=PrivateEvent('haldi ceremony','28 dec 2023','9am','moradabad',250,112233,'private')\n",
        "obj2=Event(\"marriage\",'29 dec 2023','10pm','moradabad',1000)\n",
        "obj3=obj2.create_new_event(\"mehndi\",'29 dec 2023','6pm','moradabad',200)\n",
        "obj4=Event(\"marriage\",'29 dec 2023','10pm','moradabad',1000)\n",
        "obj1.add_attendees(100)\n",
        "obj2.add_attendees(100)\n",
        "print(obj2.total_attendees())\n",
        "print(obj1.total_attendees())\n",
        "for events in Event.list_of_events:\n",
        "  print(events)\n",
        "#output=\n",
        "# 1100\n",
        "# 350\n",
        "# Event('mehndi', '29 dec 2023', '6pm', 'moradabad', 200)\n"
      ],
      "metadata": {
        "colab": {
          "base_uri": "https://localhost:8080/"
        },
        "id": "w9phzQBbCJMp",
        "outputId": "36a5e9f9-4fd1-4649-c242-f6dd0570dcc0"
      },
      "execution_count": null,
      "outputs": [
        {
          "output_type": "stream",
          "name": "stdout",
          "text": [
            "1100\n",
            "350\n",
            "Event('mehndi', '29 dec 2023', '6pm', 'moradabad', 200)\n"
          ]
        }
      ]
    },
    {
      "cell_type": "code",
      "source": [
        "# Question:10\n",
        "class Flight:\n",
        "  def __init__(self,flight_number,departure_airport,arrival_airport,departure_time,arrival_time,available_seats):\n",
        "    self._flight_number=flight_number\n",
        "    self._departue_airport=departure_airport\n",
        "    self._arrival_airport=arrival_airport\n",
        "    self._deoarture_time=departure_time\n",
        "    self._arrival_time=arrival_time\n",
        "    self.__available_seats=available_seats\n",
        "  def book_seats(self,number):\n",
        "    if self.__available_seats>0:\n",
        "      self.__available_seats-=number\n",
        "      return \"seat is available\"\n",
        "\n",
        "    else:\n",
        "        print(\"seats are not available\")\n",
        "  def cancel_reservation(self,number):\n",
        "     self.__available_seats+=number\n",
        "     return f\"reservation cancelled for {number} seats\"\n",
        "\n",
        "\n",
        "  def remaining_seats(self):\n",
        "    return self.__available_seats\n",
        "class DomesticFlight(Flight):\n",
        "  def __init__(self,flight_number,departure_airport,arrival_airport,departure_time,arrival_time,available_seats,Food):\n",
        "    super().__init__(flight_number,departure_airport,arrival_airport,departure_time,arrival_time,available_seats)\n",
        "    self.Food=Food\n",
        "class InternationalFlight(Flight):\n",
        "  def __init__(self,flight_number,departure_airport,arrival_airport,departure_time,arrival_time,available_seats,Food,Blanket,Wifi):\n",
        "    super().__init__(flight_number,departure_airport,arrival_airport,departure_time,arrival_time,available_seats)\n",
        "    self.Food=Food\n",
        "    self.Blanket=Blanket\n",
        "    self.Wifi=Wifi\n",
        "\n",
        "\n",
        "flight1=DomesticFlight(234,'delhi','bangalore','6am','11am',100,'yes')\n",
        "print(flight1.remaining_seats())\n",
        "print(flight1.book_seats(5))\n",
        "print(flight1.remaining_seats())\n",
        "print(flight1.cancel_reservation(2))\n",
        "\n",
        "\n",
        "#output=\n",
        "# 100\n",
        "# seat is available\n",
        "# 95\n",
        "# reservation cancelled for 2 seats\n"
      ],
      "metadata": {
        "colab": {
          "base_uri": "https://localhost:8080/"
        },
        "id": "j6fmfTgzCSxA",
        "outputId": "b7acc59f-ac85-40ea-98e6-fa213c416223"
      },
      "execution_count": null,
      "outputs": [
        {
          "output_type": "stream",
          "name": "stdout",
          "text": [
            "100\n",
            "seat is available\n",
            "95\n",
            "reservation cancelled for 2 seats\n"
          ]
        }
      ]
    },
    {
      "cell_type": "code",
      "source": [],
      "metadata": {
        "id": "FV946kRLCZZh"
      },
      "execution_count": null,
      "outputs": []
    }
  ]
}